{
 "cells": [
  {
   "cell_type": "code",
   "execution_count": null,
   "metadata": {},
   "outputs": [],
   "source": [
    "TSCALE = 4\n",
    "import numpy\n",
    "import matplotlib.pyplot as plt\n",
    "import model\n",
    "import modelsim\n",
    "import ftemp\n",
    "import vtemp\n",
    "import culex\n",
    "import priorQ\n",
    "import priorP"
   ]
  },
  {
   "cell_type": "code",
   "execution_count": null,
   "metadata": {},
   "outputs": [],
   "source": [
    "paramQ = modelsim.paramQ.copy()\n",
    "paramP = modelsim.paramP.copy()"
   ]
  },
  {
   "cell_type": "code",
   "execution_count": null,
   "metadata": {},
   "outputs": [],
   "source": [
    "model.plotPDC(paramQ, ylog=True, subset=True, filename=\"figuresLT/param_Cxquin_C\", filetype='pdf')\n",
    "model.plotPDC(paramP, ylog=True, filename=\"figuresLT/param_Cxpip_C\", filetype='pdf')"
   ]
  },
  {
   "cell_type": "code",
   "execution_count": null,
   "metadata": {},
   "outputs": [],
   "source": []
  }
 ],
 "metadata": {
  "interpreter": {
   "hash": "31f2aee4e71d21fbe5cf8b01ff0e069b9275f58929596ceb00d14d90e3e16cd6"
  },
  "kernelspec": {
   "display_name": "Python 3.7.3 64-bit",
   "language": "python",
   "name": "python3"
  },
  "language_info": {
   "codemirror_mode": {
    "name": "ipython",
    "version": 3
   },
   "file_extension": ".py",
   "mimetype": "text/x-python",
   "name": "python",
   "nbconvert_exporter": "python",
   "pygments_lexer": "ipython3",
   "version": "3.7.4"
  },
  "orig_nbformat": 4
 },
 "nbformat": 4,
 "nbformat_minor": 2
}
